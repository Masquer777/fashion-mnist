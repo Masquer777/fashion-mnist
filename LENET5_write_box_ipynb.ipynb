{
  "nbformat": 4,
  "nbformat_minor": 0,
  "metadata": {
    "colab": {
      "name": "“LENET5-write-box.ipynb”的副本",
      "provenance": [],
      "collapsed_sections": [],
      "mount_file_id": "1DYOQS_sYlbigcdvs_mcnRPy55_RQsVM8",
      "authorship_tag": "ABX9TyO2+iSX24h4MXU+lwJ+ArRa",
      "include_colab_link": true
    },
    "kernelspec": {
      "name": "python3",
      "display_name": "Python 3"
    },
    "language_info": {
      "name": "python"
    },
    "accelerator": "GPU"
  },
  "cells": [
    {
      "cell_type": "markdown",
      "metadata": {
        "id": "view-in-github",
        "colab_type": "text"
      },
      "source": [
        "<a href=\"https://colab.research.google.com/github/Masquer777/fashion-mnist/blob/main/LENET5_write_box_ipynb.ipynb\" target=\"_parent\"><img src=\"https://colab.research.google.com/assets/colab-badge.svg\" alt=\"Open In Colab\"/></a>"
      ]
    },
    {
      "cell_type": "code",
      "metadata": {
        "id": "ylYwNr2Id0St"
      },
      "source": [
        "import torch\n",
        "import torch.utils.data\n",
        "from torch import optim, nn\n",
        "from torchvision import datasets\n",
        "from torchvision.transforms import transforms\n",
        "import torch.nn.functional as F\n",
        "import matplotlib.pyplot as plt\n",
        "from torch.autograd import Variable\n",
        "import numpy as np\n",
        "import pickle\n",
        "import os"
      ],
      "execution_count": null,
      "outputs": []
    },
    {
      "cell_type": "code",
      "metadata": {
        "id": "AC33cSjHfijr"
      },
      "source": [
        "import sys\n",
        "sys.path.append(\"/content/drive/MyDrive/Fashion-Mnist/black-box\")\n",
        "import LENET5"
      ],
      "execution_count": null,
      "outputs": []
    },
    {
      "cell_type": "code",
      "metadata": {
        "id": "feBlasoVeE2k"
      },
      "source": [
        ""
      ],
      "execution_count": null,
      "outputs": []
    },
    {
      "cell_type": "code",
      "metadata": {
        "id": "z1QhcuMueHCz"
      },
      "source": [
        "def load_data():\n",
        "    batch_size = 1\n",
        "    transform=transforms.Compose([\n",
        "                        transforms.ToTensor(),\n",
        "                        transforms.Normalize((0.1307,), (0.3081,))\n",
        "                    ])\n",
        "\n",
        "    with open(DATAPATH,\"rb\") as f:\n",
        "        attack_data=pickle.load(f)\n",
        "        attack_datasets=[]\n",
        "        image=attack_data[0]\n",
        "        label=attack_data[1]\n",
        "        for i in range(len(attack_data[0])):\n",
        "            img=transform(image[i].reshape(28,28))\n",
        "            attack_datasets.append((img,label[i]))\n",
        "        #attack_datasets=torch.utils.data.TensorDataset(image,label)\n",
        "        # label=torch.Tensor(label)\n",
        "        # attack_datasets=attack_img,label\n",
        "    test_loader = torch.utils.data.DataLoader(attack_datasets,batch_size=batch_size, shuffle=True)\n",
        "    return test_loader"
      ],
      "execution_count": null,
      "outputs": []
    },
    {
      "cell_type": "code",
      "metadata": {
        "id": "tTrUWluGeKS3"
      },
      "source": [
        "def fgsm_attack(image, epsilon, data_grad):\n",
        "  #sign_data_grad = data_grad.sign()\n",
        "  \n",
        "  perturbed_image = image - epsilon*data_grad\n",
        "\n",
        "  perturbed_image = torch.clamp(perturbed_image, 0, 1)\n",
        "  \n",
        "  return perturbed_image\n",
        "\n",
        "def test( model, device, test_loader, epsilon ):\n",
        "  final_acc=0\n",
        "  adv_examples = []\n",
        "  init_images=[]\n",
        "  step=0\n",
        "  # Loop over all examples in test set\n",
        "  for data, target in test_loader:\n",
        "    step+=1\n",
        "\n",
        "    data, target = data.to(device), target.argmax().to(device)\n",
        "    data.requires_grad = True\n",
        "    output = model(data)\n",
        "    init_pred = output.max(1, keepdim=True)[1] \n",
        "    if init_pred.item() != target.item():   #本来错误分类的数据，跳过\n",
        "        step-=1                             #计数减一\n",
        "        continue\n",
        "    attack_dict={0:1,1:2,2:3,3:4,4:5,5:6,6:7,7:8,8:9,9:0}\n",
        "    expect_label=torch.FloatTensor([attack_dict[target.item()]]).to(device)\n",
        "    criteon = nn.CrossEntropyLoss().to(device)\n",
        "    perturbed_data=data\n",
        "    for _ in range(10):     #退出条件 -- 迭代次数\n",
        "          \n",
        "      #更新梯度\n",
        "      attack_output=model(perturbed_data)\n",
        "      loss = criteon(attack_output,expect_label.long())\n",
        "      model.zero_grad()\n",
        "      loss.backward(retain_graph =True)\n",
        "      data_grad = data.grad.data             \n",
        "      \n",
        "      #更新对抗样本\n",
        "      perturbed_data = fgsm_attack(perturbed_data, epsilon, data_grad)\n",
        "      attack_output = model(perturbed_data)\n",
        "      final_pred = attack_output.max(1, keepdim=True)[1]\n",
        "\n",
        "      #判断是否攻击成功\n",
        "      if final_pred.item() == expect_label.item():\n",
        "        final_acc+=1\n",
        "        print(\" {}/{} : attack finished  {}  ...\".format(step,totel_test_examples, final_acc))\n",
        "\n",
        "        #保存数据为list\n",
        "        adv_examples.append((perturbed_data,target.item(),expect_label.item()))\n",
        "        init_images.append((data,target.item()))\n",
        "        break\n",
        "    if step > totel_test_examples:\n",
        "      break\n",
        "\n",
        "    # Return the adversarial example\n",
        "  return final_acc,adv_examples,init_images"
      ],
      "execution_count": null,
      "outputs": []
    },
    {
      "cell_type": "code",
      "metadata": {
        "id": "mymL0KIUePoi"
      },
      "source": [
        "\n",
        "def show_attack_img(data):\n",
        "    for step,i in enumerate(data):\n",
        "        adv_ex = i[0].squeeze().detach().cpu().numpy()\n",
        "        init_label=i[1]\n",
        "        expect_label=i[2]\n",
        "        print(\"{} / {}\".format((step+1),len(data)),end=\"\\r\")\n",
        "        plt.imshow(adv_ex, cmap=\"gray\")\n",
        "#         print(step)\n",
        "#         print(init_label)\n",
        "        plt.savefig(SAVEPATH+\"/NO{}_fashion-mnist_{}to{}.jpg\".format(step+1,init_label,expect_label))\n",
        "\n",
        "def show_init_img(data):\n",
        "    for step,i in enumerate(data):\n",
        "        adv_ex = i[0].squeeze().detach().cpu().numpy()\n",
        "        init_label=i[1]\n",
        "        print(\"{} / {}\".format((step+1),len(data)),end=\"\\r\")\n",
        "        plt.imshow(adv_ex, cmap=\"gray\")\n",
        "        plt.savefig(SAVEPATH+\"/NO{}_fashion-mnist_{}.jpg\".format(step+1,init_label))\n",
        "\n",
        "def save_dict(data, name):\n",
        "    with open(name + '.pkl', 'wb') as f:\n",
        "        pickle.dump(data, f, pickle.HIGHEST_PROTOCOL)\n"
      ],
      "execution_count": null,
      "outputs": []
    },
    {
      "cell_type": "code",
      "metadata": {
        "colab": {
          "base_uri": "https://localhost:8080/",
          "height": 1000
        },
        "id": "FF62w7PweSPH",
        "outputId": "9461457f-c65a-47a3-870e-b65e64d07958"
      },
      "source": [
        "if __name__==\"__main__\":\n",
        "\n",
        "  SAVEPATH=\"/content/drive/MyDrive/Fashion-Mnist/black-box/write-box-data-LENET5\"             #文件保存路径\n",
        "  MODELPATH=\"/content/drive/MyDrive/Fashion-Mnist/black-box/Lenet5_acc_91.59.pkl\"           #加载模型路径\n",
        "  DATAPATH=\"/content/drive/MyDrive/Fashion-Mnist/attack_data/correct_1k.pkl\"           #加载数据路径\n",
        "\n",
        "  device = torch.device('cuda:0' if torch.cuda.is_available() else 'cpu')\n",
        "  print(\"this model is runing in \"+\"GPU\" if torch.cuda.is_available() else \"CPU\")\n",
        "  net=torch.load(MODELPATH)\n",
        "  net.eval()\n",
        "\n",
        "  eps=0.05      \n",
        "  attack_datasets=load_data()\n",
        "  totel_test_examples=len(attack_datasets)\n",
        "  acc,ex,init_img = test(net, device, attack_datasets, eps)\n",
        "\n",
        "  res=SAVEPATH+\"/write_attack_info.txt\"\n",
        "  f=open(res,\"w+\")\n",
        "  f.write(\"The accuracy of this model in the test set is 91.59 %\\n\")\n",
        "  f.write(\"Success rate of white box attack is  {:.2f}% \\n\".format(100.*acc/totel_test_examples))\n",
        "  f.close()\n",
        "  save_dict(ex,SAVEPATH+\"/adv_ex\")\n",
        "  save_dict(init_img,SAVEPATH+\"/init_img\")\n",
        "\n",
        "  show_attack_img(ex)\n",
        "  show_init_img(init_img)"
      ],
      "execution_count": null,
      "outputs": [
        {
          "output_type": "stream",
          "text": [
            "this model is runing in GPU\n",
            " 10/1000 : attack finished  1  ...\n",
            " 40/1000 : attack finished  2  ...\n",
            " 51/1000 : attack finished  3  ...\n",
            " 53/1000 : attack finished  4  ...\n",
            " 56/1000 : attack finished  5  ...\n",
            " 63/1000 : attack finished  6  ...\n",
            " 65/1000 : attack finished  7  ...\n",
            " 66/1000 : attack finished  8  ...\n",
            " 85/1000 : attack finished  9  ...\n",
            " 88/1000 : attack finished  10  ...\n",
            " 89/1000 : attack finished  11  ...\n",
            " 91/1000 : attack finished  12  ...\n",
            " 95/1000 : attack finished  13  ...\n",
            " 98/1000 : attack finished  14  ...\n",
            " 99/1000 : attack finished  15  ...\n",
            " 103/1000 : attack finished  16  ...\n",
            " 104/1000 : attack finished  17  ...\n",
            " 116/1000 : attack finished  18  ...\n",
            " 123/1000 : attack finished  19  ...\n",
            " 140/1000 : attack finished  20  ...\n",
            " 143/1000 : attack finished  21  ...\n",
            " 145/1000 : attack finished  22  ...\n",
            " 147/1000 : attack finished  23  ...\n",
            " 151/1000 : attack finished  24  ...\n",
            " 164/1000 : attack finished  25  ...\n",
            " 167/1000 : attack finished  26  ...\n",
            " 174/1000 : attack finished  27  ...\n",
            " 199/1000 : attack finished  28  ...\n",
            " 200/1000 : attack finished  29  ...\n",
            " 201/1000 : attack finished  30  ...\n",
            " 206/1000 : attack finished  31  ...\n",
            " 212/1000 : attack finished  32  ...\n",
            " 217/1000 : attack finished  33  ...\n",
            " 221/1000 : attack finished  34  ...\n",
            " 224/1000 : attack finished  35  ...\n",
            " 225/1000 : attack finished  36  ...\n",
            " 231/1000 : attack finished  37  ...\n",
            " 237/1000 : attack finished  38  ...\n",
            " 242/1000 : attack finished  39  ...\n",
            " 247/1000 : attack finished  40  ...\n",
            " 258/1000 : attack finished  41  ...\n",
            " 260/1000 : attack finished  42  ...\n",
            " 261/1000 : attack finished  43  ...\n",
            " 278/1000 : attack finished  44  ...\n",
            " 286/1000 : attack finished  45  ...\n",
            " 291/1000 : attack finished  46  ...\n",
            " 299/1000 : attack finished  47  ...\n",
            " 309/1000 : attack finished  48  ...\n",
            " 321/1000 : attack finished  49  ...\n",
            " 324/1000 : attack finished  50  ...\n",
            " 328/1000 : attack finished  51  ...\n",
            " 340/1000 : attack finished  52  ...\n",
            " 341/1000 : attack finished  53  ...\n",
            " 346/1000 : attack finished  54  ...\n",
            " 351/1000 : attack finished  55  ...\n",
            " 373/1000 : attack finished  56  ...\n",
            " 375/1000 : attack finished  57  ...\n",
            " 388/1000 : attack finished  58  ...\n",
            " 389/1000 : attack finished  59  ...\n",
            " 395/1000 : attack finished  60  ...\n",
            " 399/1000 : attack finished  61  ...\n",
            " 417/1000 : attack finished  62  ...\n",
            " 425/1000 : attack finished  63  ...\n",
            " 426/1000 : attack finished  64  ...\n",
            " 431/1000 : attack finished  65  ...\n",
            " 440/1000 : attack finished  66  ...\n",
            " 450/1000 : attack finished  67  ...\n",
            " 452/1000 : attack finished  68  ...\n",
            " 465/1000 : attack finished  69  ...\n",
            " 471/1000 : attack finished  70  ...\n",
            " 475/1000 : attack finished  71  ...\n",
            " 490/1000 : attack finished  72  ...\n",
            " 500/1000 : attack finished  73  ...\n",
            " 501/1000 : attack finished  74  ...\n",
            " 505/1000 : attack finished  75  ...\n",
            " 520/1000 : attack finished  76  ...\n",
            " 532/1000 : attack finished  77  ...\n",
            " 537/1000 : attack finished  78  ...\n",
            " 538/1000 : attack finished  79  ...\n",
            " 542/1000 : attack finished  80  ...\n",
            " 564/1000 : attack finished  81  ...\n",
            " 574/1000 : attack finished  82  ...\n",
            " 591/1000 : attack finished  83  ...\n",
            " 609/1000 : attack finished  84  ...\n",
            " 617/1000 : attack finished  85  ...\n",
            " 619/1000 : attack finished  86  ...\n",
            " 623/1000 : attack finished  87  ...\n",
            " 629/1000 : attack finished  88  ...\n",
            " 636/1000 : attack finished  89  ...\n",
            " 653/1000 : attack finished  90  ...\n",
            " 656/1000 : attack finished  91  ...\n",
            " 661/1000 : attack finished  92  ...\n",
            " 677/1000 : attack finished  93  ...\n",
            " 679/1000 : attack finished  94  ...\n",
            " 686/1000 : attack finished  95  ...\n",
            " 688/1000 : attack finished  96  ...\n",
            " 694/1000 : attack finished  97  ...\n",
            " 698/1000 : attack finished  98  ...\n",
            " 699/1000 : attack finished  99  ...\n",
            " 714/1000 : attack finished  100  ...\n",
            " 721/1000 : attack finished  101  ...\n",
            " 726/1000 : attack finished  102  ...\n",
            " 729/1000 : attack finished  103  ...\n",
            " 739/1000 : attack finished  104  ...\n",
            " 743/1000 : attack finished  105  ...\n",
            " 748/1000 : attack finished  106  ...\n",
            " 752/1000 : attack finished  107  ...\n",
            " 758/1000 : attack finished  108  ...\n",
            " 763/1000 : attack finished  109  ...\n",
            " 772/1000 : attack finished  110  ...\n",
            " 779/1000 : attack finished  111  ...\n",
            " 782/1000 : attack finished  112  ...\n",
            " 785/1000 : attack finished  113  ...\n",
            " 796/1000 : attack finished  114  ...\n",
            " 817/1000 : attack finished  115  ...\n",
            " 822/1000 : attack finished  116  ...\n",
            " 823/1000 : attack finished  117  ...\n",
            " 835/1000 : attack finished  118  ...\n",
            " 842/1000 : attack finished  119  ...\n",
            " 844/1000 : attack finished  120  ...\n",
            " 845/1000 : attack finished  121  ...\n",
            " 851/1000 : attack finished  122  ...\n",
            " 855/1000 : attack finished  123  ...\n",
            " 864/1000 : attack finished  124  ...\n"
          ],
          "name": "stdout"
        },
        {
          "output_type": "error",
          "ename": "FileNotFoundError",
          "evalue": "ignored",
          "traceback": [
            "\u001b[0;31m---------------------------------------------------------------------------\u001b[0m",
            "\u001b[0;31mFileNotFoundError\u001b[0m                         Traceback (most recent call last)",
            "\u001b[0;32m<ipython-input-69-aa00e9f21f76>\u001b[0m in \u001b[0;36m<module>\u001b[0;34m()\u001b[0m\n\u001b[1;32m     23\u001b[0m   \u001b[0msave_dict\u001b[0m\u001b[0;34m(\u001b[0m\u001b[0minit_img\u001b[0m\u001b[0;34m,\u001b[0m\u001b[0mSAVEPATH\u001b[0m\u001b[0;34m+\u001b[0m\u001b[0;34m\"/init_img\"\u001b[0m\u001b[0;34m)\u001b[0m\u001b[0;34m\u001b[0m\u001b[0;34m\u001b[0m\u001b[0m\n\u001b[1;32m     24\u001b[0m \u001b[0;34m\u001b[0m\u001b[0m\n\u001b[0;32m---> 25\u001b[0;31m   \u001b[0mshow_attack_img\u001b[0m\u001b[0;34m(\u001b[0m\u001b[0mex\u001b[0m\u001b[0;34m)\u001b[0m\u001b[0;34m\u001b[0m\u001b[0;34m\u001b[0m\u001b[0m\n\u001b[0m\u001b[1;32m     26\u001b[0m   \u001b[0mshow_init_img\u001b[0m\u001b[0;34m(\u001b[0m\u001b[0minit_img\u001b[0m\u001b[0;34m)\u001b[0m\u001b[0;34m\u001b[0m\u001b[0;34m\u001b[0m\u001b[0m\n",
            "\u001b[0;32m<ipython-input-68-15070da29fc7>\u001b[0m in \u001b[0;36mshow_attack_img\u001b[0;34m(data)\u001b[0m\n\u001b[1;32m      9\u001b[0m \u001b[0;31m#         print(step)\u001b[0m\u001b[0;34m\u001b[0m\u001b[0;34m\u001b[0m\u001b[0;34m\u001b[0m\u001b[0m\n\u001b[1;32m     10\u001b[0m \u001b[0;31m#         print(init_label)\u001b[0m\u001b[0;34m\u001b[0m\u001b[0;34m\u001b[0m\u001b[0;34m\u001b[0m\u001b[0m\n\u001b[0;32m---> 11\u001b[0;31m         \u001b[0mplt\u001b[0m\u001b[0;34m.\u001b[0m\u001b[0msavefig\u001b[0m\u001b[0;34m(\u001b[0m\u001b[0mSAVEPATH\u001b[0m\u001b[0;34m+\u001b[0m\u001b[0;34m\"/img/NO{}_fashion-mnist_{}to{}.jpg\"\u001b[0m\u001b[0;34m.\u001b[0m\u001b[0mformat\u001b[0m\u001b[0;34m(\u001b[0m\u001b[0mstep\u001b[0m\u001b[0;34m+\u001b[0m\u001b[0;36m1\u001b[0m\u001b[0;34m,\u001b[0m\u001b[0minit_label\u001b[0m\u001b[0;34m,\u001b[0m\u001b[0mexpect_label\u001b[0m\u001b[0;34m)\u001b[0m\u001b[0;34m)\u001b[0m\u001b[0;34m\u001b[0m\u001b[0;34m\u001b[0m\u001b[0m\n\u001b[0m\u001b[1;32m     12\u001b[0m \u001b[0;34m\u001b[0m\u001b[0m\n\u001b[1;32m     13\u001b[0m \u001b[0;32mdef\u001b[0m \u001b[0mshow_init_img\u001b[0m\u001b[0;34m(\u001b[0m\u001b[0mdata\u001b[0m\u001b[0;34m)\u001b[0m\u001b[0;34m:\u001b[0m\u001b[0;34m\u001b[0m\u001b[0;34m\u001b[0m\u001b[0m\n",
            "\u001b[0;32m/usr/local/lib/python3.7/dist-packages/matplotlib/pyplot.py\u001b[0m in \u001b[0;36msavefig\u001b[0;34m(*args, **kwargs)\u001b[0m\n\u001b[1;32m    721\u001b[0m \u001b[0;32mdef\u001b[0m \u001b[0msavefig\u001b[0m\u001b[0;34m(\u001b[0m\u001b[0;34m*\u001b[0m\u001b[0margs\u001b[0m\u001b[0;34m,\u001b[0m \u001b[0;34m**\u001b[0m\u001b[0mkwargs\u001b[0m\u001b[0;34m)\u001b[0m\u001b[0;34m:\u001b[0m\u001b[0;34m\u001b[0m\u001b[0;34m\u001b[0m\u001b[0m\n\u001b[1;32m    722\u001b[0m     \u001b[0mfig\u001b[0m \u001b[0;34m=\u001b[0m \u001b[0mgcf\u001b[0m\u001b[0;34m(\u001b[0m\u001b[0;34m)\u001b[0m\u001b[0;34m\u001b[0m\u001b[0;34m\u001b[0m\u001b[0m\n\u001b[0;32m--> 723\u001b[0;31m     \u001b[0mres\u001b[0m \u001b[0;34m=\u001b[0m \u001b[0mfig\u001b[0m\u001b[0;34m.\u001b[0m\u001b[0msavefig\u001b[0m\u001b[0;34m(\u001b[0m\u001b[0;34m*\u001b[0m\u001b[0margs\u001b[0m\u001b[0;34m,\u001b[0m \u001b[0;34m**\u001b[0m\u001b[0mkwargs\u001b[0m\u001b[0;34m)\u001b[0m\u001b[0;34m\u001b[0m\u001b[0;34m\u001b[0m\u001b[0m\n\u001b[0m\u001b[1;32m    724\u001b[0m     \u001b[0mfig\u001b[0m\u001b[0;34m.\u001b[0m\u001b[0mcanvas\u001b[0m\u001b[0;34m.\u001b[0m\u001b[0mdraw_idle\u001b[0m\u001b[0;34m(\u001b[0m\u001b[0;34m)\u001b[0m   \u001b[0;31m# need this if 'transparent=True' to reset colors\u001b[0m\u001b[0;34m\u001b[0m\u001b[0;34m\u001b[0m\u001b[0m\n\u001b[1;32m    725\u001b[0m     \u001b[0;32mreturn\u001b[0m \u001b[0mres\u001b[0m\u001b[0;34m\u001b[0m\u001b[0;34m\u001b[0m\u001b[0m\n",
            "\u001b[0;32m/usr/local/lib/python3.7/dist-packages/matplotlib/figure.py\u001b[0m in \u001b[0;36msavefig\u001b[0;34m(self, fname, transparent, **kwargs)\u001b[0m\n\u001b[1;32m   2201\u001b[0m             \u001b[0mself\u001b[0m\u001b[0;34m.\u001b[0m\u001b[0mpatch\u001b[0m\u001b[0;34m.\u001b[0m\u001b[0mset_visible\u001b[0m\u001b[0;34m(\u001b[0m\u001b[0mframeon\u001b[0m\u001b[0;34m)\u001b[0m\u001b[0;34m\u001b[0m\u001b[0;34m\u001b[0m\u001b[0m\n\u001b[1;32m   2202\u001b[0m \u001b[0;34m\u001b[0m\u001b[0m\n\u001b[0;32m-> 2203\u001b[0;31m         \u001b[0mself\u001b[0m\u001b[0;34m.\u001b[0m\u001b[0mcanvas\u001b[0m\u001b[0;34m.\u001b[0m\u001b[0mprint_figure\u001b[0m\u001b[0;34m(\u001b[0m\u001b[0mfname\u001b[0m\u001b[0;34m,\u001b[0m \u001b[0;34m**\u001b[0m\u001b[0mkwargs\u001b[0m\u001b[0;34m)\u001b[0m\u001b[0;34m\u001b[0m\u001b[0;34m\u001b[0m\u001b[0m\n\u001b[0m\u001b[1;32m   2204\u001b[0m \u001b[0;34m\u001b[0m\u001b[0m\n\u001b[1;32m   2205\u001b[0m         \u001b[0;32mif\u001b[0m \u001b[0mframeon\u001b[0m\u001b[0;34m:\u001b[0m\u001b[0;34m\u001b[0m\u001b[0;34m\u001b[0m\u001b[0m\n",
            "\u001b[0;32m/usr/local/lib/python3.7/dist-packages/matplotlib/backend_bases.py\u001b[0m in \u001b[0;36mprint_figure\u001b[0;34m(self, filename, dpi, facecolor, edgecolor, orientation, format, bbox_inches, **kwargs)\u001b[0m\n\u001b[1;32m   2124\u001b[0m                     \u001b[0morientation\u001b[0m\u001b[0;34m=\u001b[0m\u001b[0morientation\u001b[0m\u001b[0;34m,\u001b[0m\u001b[0;34m\u001b[0m\u001b[0;34m\u001b[0m\u001b[0m\n\u001b[1;32m   2125\u001b[0m                     \u001b[0mbbox_inches_restore\u001b[0m\u001b[0;34m=\u001b[0m\u001b[0m_bbox_inches_restore\u001b[0m\u001b[0;34m,\u001b[0m\u001b[0;34m\u001b[0m\u001b[0;34m\u001b[0m\u001b[0m\n\u001b[0;32m-> 2126\u001b[0;31m                     **kwargs)\n\u001b[0m\u001b[1;32m   2127\u001b[0m             \u001b[0;32mfinally\u001b[0m\u001b[0;34m:\u001b[0m\u001b[0;34m\u001b[0m\u001b[0;34m\u001b[0m\u001b[0m\n\u001b[1;32m   2128\u001b[0m                 \u001b[0;32mif\u001b[0m \u001b[0mbbox_inches\u001b[0m \u001b[0;32mand\u001b[0m \u001b[0mrestore_bbox\u001b[0m\u001b[0;34m:\u001b[0m\u001b[0;34m\u001b[0m\u001b[0;34m\u001b[0m\u001b[0m\n",
            "\u001b[0;32m/usr/local/lib/python3.7/dist-packages/matplotlib/cbook/deprecation.py\u001b[0m in \u001b[0;36mwrapper\u001b[0;34m(*args, **kwargs)\u001b[0m\n\u001b[1;32m    356\u001b[0m                 \u001b[0;34mf\"%(removal)s.  If any parameter follows {name!r}, they \"\u001b[0m\u001b[0;34m\u001b[0m\u001b[0;34m\u001b[0m\u001b[0m\n\u001b[1;32m    357\u001b[0m                 f\"should be pass as keyword, not positionally.\")\n\u001b[0;32m--> 358\u001b[0;31m         \u001b[0;32mreturn\u001b[0m \u001b[0mfunc\u001b[0m\u001b[0;34m(\u001b[0m\u001b[0;34m*\u001b[0m\u001b[0margs\u001b[0m\u001b[0;34m,\u001b[0m \u001b[0;34m**\u001b[0m\u001b[0mkwargs\u001b[0m\u001b[0;34m)\u001b[0m\u001b[0;34m\u001b[0m\u001b[0;34m\u001b[0m\u001b[0m\n\u001b[0m\u001b[1;32m    359\u001b[0m \u001b[0;34m\u001b[0m\u001b[0m\n\u001b[1;32m    360\u001b[0m     \u001b[0;32mreturn\u001b[0m \u001b[0mwrapper\u001b[0m\u001b[0;34m\u001b[0m\u001b[0;34m\u001b[0m\u001b[0m\n",
            "\u001b[0;32m/usr/local/lib/python3.7/dist-packages/matplotlib/backends/backend_agg.py\u001b[0m in \u001b[0;36mprint_jpg\u001b[0;34m(self, filename_or_obj, dryrun, pil_kwargs, *args, **kwargs)\u001b[0m\n\u001b[1;32m    598\u001b[0m             \u001b[0mpil_kwargs\u001b[0m\u001b[0;34m.\u001b[0m\u001b[0msetdefault\u001b[0m\u001b[0;34m(\u001b[0m\u001b[0;34m\"dpi\"\u001b[0m\u001b[0;34m,\u001b[0m \u001b[0;34m(\u001b[0m\u001b[0mself\u001b[0m\u001b[0;34m.\u001b[0m\u001b[0mfigure\u001b[0m\u001b[0;34m.\u001b[0m\u001b[0mdpi\u001b[0m\u001b[0;34m,\u001b[0m \u001b[0mself\u001b[0m\u001b[0;34m.\u001b[0m\u001b[0mfigure\u001b[0m\u001b[0;34m.\u001b[0m\u001b[0mdpi\u001b[0m\u001b[0;34m)\u001b[0m\u001b[0;34m)\u001b[0m\u001b[0;34m\u001b[0m\u001b[0;34m\u001b[0m\u001b[0m\n\u001b[1;32m    599\u001b[0m             return background.save(\n\u001b[0;32m--> 600\u001b[0;31m                 filename_or_obj, format='jpeg', **pil_kwargs)\n\u001b[0m\u001b[1;32m    601\u001b[0m \u001b[0;34m\u001b[0m\u001b[0m\n\u001b[1;32m    602\u001b[0m         \u001b[0mprint_jpeg\u001b[0m \u001b[0;34m=\u001b[0m \u001b[0mprint_jpg\u001b[0m\u001b[0;34m\u001b[0m\u001b[0;34m\u001b[0m\u001b[0m\n",
            "\u001b[0;32m/usr/local/lib/python3.7/dist-packages/PIL/Image.py\u001b[0m in \u001b[0;36msave\u001b[0;34m(self, fp, format, **params)\u001b[0m\n\u001b[1;32m   2129\u001b[0m                 \u001b[0mfp\u001b[0m \u001b[0;34m=\u001b[0m \u001b[0mbuiltins\u001b[0m\u001b[0;34m.\u001b[0m\u001b[0mopen\u001b[0m\u001b[0;34m(\u001b[0m\u001b[0mfilename\u001b[0m\u001b[0;34m,\u001b[0m \u001b[0;34m\"r+b\"\u001b[0m\u001b[0;34m)\u001b[0m\u001b[0;34m\u001b[0m\u001b[0;34m\u001b[0m\u001b[0m\n\u001b[1;32m   2130\u001b[0m             \u001b[0;32melse\u001b[0m\u001b[0;34m:\u001b[0m\u001b[0;34m\u001b[0m\u001b[0;34m\u001b[0m\u001b[0m\n\u001b[0;32m-> 2131\u001b[0;31m                 \u001b[0mfp\u001b[0m \u001b[0;34m=\u001b[0m \u001b[0mbuiltins\u001b[0m\u001b[0;34m.\u001b[0m\u001b[0mopen\u001b[0m\u001b[0;34m(\u001b[0m\u001b[0mfilename\u001b[0m\u001b[0;34m,\u001b[0m \u001b[0;34m\"w+b\"\u001b[0m\u001b[0;34m)\u001b[0m\u001b[0;34m\u001b[0m\u001b[0;34m\u001b[0m\u001b[0m\n\u001b[0m\u001b[1;32m   2132\u001b[0m \u001b[0;34m\u001b[0m\u001b[0m\n\u001b[1;32m   2133\u001b[0m         \u001b[0;32mtry\u001b[0m\u001b[0;34m:\u001b[0m\u001b[0;34m\u001b[0m\u001b[0;34m\u001b[0m\u001b[0m\n",
            "\u001b[0;31mFileNotFoundError\u001b[0m: [Errno 2] No such file or directory: '/content/drive/MyDrive/Fashion-Mnist/black-box/write-box-data-LENET5/img/NO1_fashion-mnist_7to8.0.jpg'"
          ]
        },
        {
          "output_type": "display_data",
          "data": {
            "image/png": "[encoded data removed]",
            "text/plain": [
              "<Figure size 432x288 with 1 Axes>"
            ]
          },
          "metadata": {
            "tags": [],
            "needs_background": "light"
          }
        }
      ]
    },
    {
      "cell_type": "code",
      "metadata": {
        "id": "rIG21edHrS16"
      },
      "source": [
        "res=SAVEPATH+\"/write_attack_info.txt\"\n",
        "f=open(res,\"w+\")\n",
        "f.write(\"The accuracy of this model in the test set is 91.59 %\\n\")\n",
        "f.write(\"Success rate of white box attack is  {:.2f}% \\n\".format(100.*acc/totel_test_examples))\n",
        "f.close()"
      ],
      "execution_count": null,
      "outputs": []
    },
    {
      "cell_type": "code",
      "metadata": {
        "colab": {
          "base_uri": "https://localhost:8080/",
          "height": 265
        },
        "id": "C54VT6CVqp4j",
        "outputId": "5481ce33-3843-4040-bc22-98b7ce871d87"
      },
      "source": [
        "show_attack_img(ex)\n",
        "show_init_img(init_img)"
      ],
      "execution_count": null,
      "outputs": [
        {
          "output_type": "stream",
          "text": [
            ""
          ],
          "name": "stdout"
        },
        {
          "output_type": "display_data",
          "data": {
            "image/png": "[encoded data removed]",
            "text/plain": [
              "<Figure size 432x288 with 1 Axes>"
            ]
          },
          "metadata": {
            "tags": [],
            "needs_background": "light"
          }
        }
      ]
    }
  ]
}